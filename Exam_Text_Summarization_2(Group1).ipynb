{
  "cells": [
    {
      "cell_type": "markdown",
      "id": "00dbdcaa",
      "metadata": {
        "id": "00dbdcaa"
      },
      "source": [
        "# Fine-tuning a Model for Summarization Task"
      ]
    },
    {
      "cell_type": "markdown",
      "id": "665ad863",
      "metadata": {
        "id": "665ad863"
      },
      "source": [
        "In this task, you will load, preprocess, and fine-tune a T5 model on a dataset of news articles for a summarization task. Follow the steps below carefully.\n",
        "\n",
        "### Model and Dataset Information\n",
        "\n",
        "For this task, you will be working with the following:\n",
        "\n",
        "- **Model Checkpoint**: Use the pre-trained model checkpoint `UBC-NLP/AraT5-base` if you face any problem you can use `google-t5/t5-small` but the first one is the correct one for both the model and tokenizer.\n",
        "- **Dataset**: You will be using the `CUTD/news_articles_df` dataset. Ensure to load and preprocess the dataset correctly for training and evaluation.\n",
        "\n",
        "**Note:**\n",
        "- Any additional steps or methods you include that improve or enhance the results will be rewarded with bonus points if they are justified.\n",
        "- The steps outlined here are suggestions. You are free to implement alternative methods or approaches to achieve the task, as long as you explain the reasoning and the process at the bottom of the notebook.\n",
        "- You can use either TensorFlow or PyTorch for this task. If you prefer TensorFlow, feel free to use it when working with Hugging Face Transformers.\n",
        "- The number of data samples you choose to work with is flexible. However, if you select a very low number of samples and the training time is too short, this could affect the evaluation of your work."
      ]
    },
    {
      "cell_type": "markdown",
      "id": "697bca4c",
      "metadata": {
        "id": "697bca4c"
      },
      "source": [
        "## Step 1: Load the Dataset"
      ]
    },
    {
      "cell_type": "markdown",
      "id": "7d3f385d",
      "metadata": {
        "id": "7d3f385d"
      },
      "source": [
        "Load the dataset and split it into training and test sets. Use 20% of the data for testing."
      ]
    },
    {
      "cell_type": "code",
      "execution_count": 1,
      "id": "eeb08e9c",
      "metadata": {
        "id": "eeb08e9c",
        "colab": {
          "base_uri": "https://localhost:8080/"
        },
        "outputId": "464c0d86-bd33-441e-8f10-9ca1c3943871"
      },
      "outputs": [
        {
          "output_type": "stream",
          "name": "stderr",
          "text": [
            "/usr/local/lib/python3.10/dist-packages/huggingface_hub/utils/_token.py:89: UserWarning: \n",
            "The secret `HF_TOKEN` does not exist in your Colab secrets.\n",
            "To authenticate with the Hugging Face Hub, create a token in your settings tab (https://huggingface.co/settings/tokens), set it as secret in your Google Colab and restart your session.\n",
            "You will be able to reuse this secret in all of your notebooks.\n",
            "Please note that authentication is recommended but still optional to access public models or datasets.\n",
            "  warnings.warn(\n"
          ]
        }
      ],
      "source": [
        "# source https://huggingface.co/datasets/CUTD/news_articles_df\n",
        "import pandas as pd\n",
        "df = pd.read_csv(\"hf://datasets/CUTD/news_articles_df/news_articles_df.csv\")"
      ]
    },
    {
      "cell_type": "code",
      "source": [
        "from sklearn.model_selection import train_test_split\n",
        "\n",
        "train_df , test_df = train_test_split(df, test_size=0.2 , random_state=42)"
      ],
      "metadata": {
        "id": "T-OdCaRU4ah5"
      },
      "id": "T-OdCaRU4ah5",
      "execution_count": 2,
      "outputs": []
    },
    {
      "cell_type": "code",
      "source": [
        "!pip install datasets"
      ],
      "metadata": {
        "colab": {
          "base_uri": "https://localhost:8080/"
        },
        "id": "A90Mk-xM6cnU",
        "outputId": "6cf022b4-88db-4876-87f3-8d3e0ea1884b"
      },
      "id": "A90Mk-xM6cnU",
      "execution_count": 3,
      "outputs": [
        {
          "output_type": "stream",
          "name": "stdout",
          "text": [
            "Requirement already satisfied: datasets in /usr/local/lib/python3.10/dist-packages (3.0.0)\n",
            "Requirement already satisfied: filelock in /usr/local/lib/python3.10/dist-packages (from datasets) (3.16.0)\n",
            "Requirement already satisfied: numpy>=1.17 in /usr/local/lib/python3.10/dist-packages (from datasets) (1.26.4)\n",
            "Requirement already satisfied: pyarrow>=15.0.0 in /usr/local/lib/python3.10/dist-packages (from datasets) (17.0.0)\n",
            "Requirement already satisfied: dill<0.3.9,>=0.3.0 in /usr/local/lib/python3.10/dist-packages (from datasets) (0.3.8)\n",
            "Requirement already satisfied: pandas in /usr/local/lib/python3.10/dist-packages (from datasets) (2.1.4)\n",
            "Requirement already satisfied: requests>=2.32.2 in /usr/local/lib/python3.10/dist-packages (from datasets) (2.32.3)\n",
            "Requirement already satisfied: tqdm>=4.66.3 in /usr/local/lib/python3.10/dist-packages (from datasets) (4.66.5)\n",
            "Requirement already satisfied: xxhash in /usr/local/lib/python3.10/dist-packages (from datasets) (3.5.0)\n",
            "Requirement already satisfied: multiprocess in /usr/local/lib/python3.10/dist-packages (from datasets) (0.70.16)\n",
            "Requirement already satisfied: fsspec<=2024.6.1,>=2023.1.0 in /usr/local/lib/python3.10/dist-packages (from fsspec[http]<=2024.6.1,>=2023.1.0->datasets) (2024.6.1)\n",
            "Requirement already satisfied: aiohttp in /usr/local/lib/python3.10/dist-packages (from datasets) (3.10.5)\n",
            "Requirement already satisfied: huggingface-hub>=0.22.0 in /usr/local/lib/python3.10/dist-packages (from datasets) (0.24.6)\n",
            "Requirement already satisfied: packaging in /usr/local/lib/python3.10/dist-packages (from datasets) (24.1)\n",
            "Requirement already satisfied: pyyaml>=5.1 in /usr/local/lib/python3.10/dist-packages (from datasets) (6.0.2)\n",
            "Requirement already satisfied: aiohappyeyeballs>=2.3.0 in /usr/local/lib/python3.10/dist-packages (from aiohttp->datasets) (2.4.0)\n",
            "Requirement already satisfied: aiosignal>=1.1.2 in /usr/local/lib/python3.10/dist-packages (from aiohttp->datasets) (1.3.1)\n",
            "Requirement already satisfied: attrs>=17.3.0 in /usr/local/lib/python3.10/dist-packages (from aiohttp->datasets) (24.2.0)\n",
            "Requirement already satisfied: frozenlist>=1.1.1 in /usr/local/lib/python3.10/dist-packages (from aiohttp->datasets) (1.4.1)\n",
            "Requirement already satisfied: multidict<7.0,>=4.5 in /usr/local/lib/python3.10/dist-packages (from aiohttp->datasets) (6.1.0)\n",
            "Requirement already satisfied: yarl<2.0,>=1.0 in /usr/local/lib/python3.10/dist-packages (from aiohttp->datasets) (1.11.1)\n",
            "Requirement already satisfied: async-timeout<5.0,>=4.0 in /usr/local/lib/python3.10/dist-packages (from aiohttp->datasets) (4.0.3)\n",
            "Requirement already satisfied: typing-extensions>=3.7.4.3 in /usr/local/lib/python3.10/dist-packages (from huggingface-hub>=0.22.0->datasets) (4.12.2)\n",
            "Requirement already satisfied: charset-normalizer<4,>=2 in /usr/local/lib/python3.10/dist-packages (from requests>=2.32.2->datasets) (3.3.2)\n",
            "Requirement already satisfied: idna<4,>=2.5 in /usr/local/lib/python3.10/dist-packages (from requests>=2.32.2->datasets) (3.8)\n",
            "Requirement already satisfied: urllib3<3,>=1.21.1 in /usr/local/lib/python3.10/dist-packages (from requests>=2.32.2->datasets) (2.0.7)\n",
            "Requirement already satisfied: certifi>=2017.4.17 in /usr/local/lib/python3.10/dist-packages (from requests>=2.32.2->datasets) (2024.8.30)\n",
            "Requirement already satisfied: python-dateutil>=2.8.2 in /usr/local/lib/python3.10/dist-packages (from pandas->datasets) (2.8.2)\n",
            "Requirement already satisfied: pytz>=2020.1 in /usr/local/lib/python3.10/dist-packages (from pandas->datasets) (2024.2)\n",
            "Requirement already satisfied: tzdata>=2022.1 in /usr/local/lib/python3.10/dist-packages (from pandas->datasets) (2024.1)\n",
            "Requirement already satisfied: six>=1.5 in /usr/local/lib/python3.10/dist-packages (from python-dateutil>=2.8.2->pandas->datasets) (1.16.0)\n"
          ]
        }
      ]
    },
    {
      "cell_type": "code",
      "source": [
        "from datasets import Dataset\n",
        "\n",
        "train_dataset = Dataset.from_pandas(train_df)\n",
        "test_dataset = Dataset.from_pandas(test_df)"
      ],
      "metadata": {
        "id": "uSaBQ_Qs6WSN"
      },
      "id": "uSaBQ_Qs6WSN",
      "execution_count": 4,
      "outputs": []
    },
    {
      "cell_type": "markdown",
      "id": "d518350b",
      "metadata": {
        "id": "d518350b"
      },
      "source": [
        "## Step 2: Load the Pretrained Tokenizer"
      ]
    },
    {
      "cell_type": "markdown",
      "id": "277a333d",
      "metadata": {
        "id": "277a333d"
      },
      "source": [
        "Initialize a tokenizer from the gevin model checkpoint."
      ]
    },
    {
      "cell_type": "code",
      "execution_count": 5,
      "id": "a1931520",
      "metadata": {
        "id": "a1931520"
      },
      "outputs": [],
      "source": [
        "# source : https://huggingface.co/yalsaffar/mt5-small-Arabic-Summarization\n",
        "from transformers import AutoTokenizer, AutoModelForSeq2SeqLM\n",
        "\n",
        "tokenizer = AutoTokenizer.from_pretrained(\"yalsaffar/mt5-small-Arabic-Summarization\")"
      ]
    },
    {
      "cell_type": "markdown",
      "id": "9aff9f50",
      "metadata": {
        "id": "9aff9f50"
      },
      "source": [
        "## Step 3: Preprocess the Dataset"
      ]
    },
    {
      "cell_type": "markdown",
      "id": "1a4a3ba9",
      "metadata": {
        "id": "1a4a3ba9"
      },
      "source": [
        "Define a preprocessing function that adds a prefix (\"summarize:\") to each input if needed and tokenizes the text for the model. The labels will be the tokenized summaries."
      ]
    },
    {
      "cell_type": "code",
      "execution_count": 6,
      "id": "a4d5f586",
      "metadata": {
        "id": "a4d5f586",
        "colab": {
          "base_uri": "https://localhost:8080/",
          "height": 81,
          "referenced_widgets": [
            "0d8867de380c4129ac232409c714291a",
            "2113eeaa871049de91b20f0cb6c0f726",
            "34a8922fa7c34b4bbf2723b0b6afd332",
            "9242ecf7eb054b7d9643480684d89564",
            "a7d9cec8cbb348199ceef3c8f1cee822",
            "7f5e1ca20816439b9c081ef154a9d3ce",
            "64cb8f2b72fa4527b2fdedb70c7bf07a",
            "ea6fb092a1f04cbe88cd67723d6088fd",
            "33e3bd8467d44c8b9a284b4ac119ff76",
            "4e348517e83d420ca2ec6fc918d65977",
            "7d6dfd03230341e98a1b2a2b836eefae",
            "7d30a76a66544c7eaeb0a19b914fa441",
            "68f17e5d7f494b5ba1c787269618998f",
            "fd4b87af39d742d9bbec75336185bb24",
            "eec392fc1d8f4f7da9ef07edb5eb02c3",
            "3183455d2a15403ba800ed4a0dcc4b9d",
            "8f70310ae1ce4286bcf001ca13e93664",
            "275221d1665543428c7ad3016d247cfa",
            "c8521582d2d24c5987586ba5534d9cee",
            "29daa030f1784f8cbf11bee3197d97f2",
            "594051119b874f17a916c5aa7e5b0993",
            "bfcfc74df71041109cb920c1ad7aa121"
          ]
        },
        "outputId": "a84edf16-1e69-4c24-b2d9-2ba096d5a07e"
      },
      "outputs": [
        {
          "output_type": "display_data",
          "data": {
            "text/plain": [
              "Map:   0%|          | 0/6702 [00:00<?, ? examples/s]"
            ],
            "application/vnd.jupyter.widget-view+json": {
              "version_major": 2,
              "version_minor": 0,
              "model_id": "0d8867de380c4129ac232409c714291a"
            }
          },
          "metadata": {}
        },
        {
          "output_type": "display_data",
          "data": {
            "text/plain": [
              "Map:   0%|          | 0/1676 [00:00<?, ? examples/s]"
            ],
            "application/vnd.jupyter.widget-view+json": {
              "version_major": 2,
              "version_minor": 0,
              "model_id": "7d30a76a66544c7eaeb0a19b914fa441"
            }
          },
          "metadata": {}
        }
      ],
      "source": [
        "#source : https://huggingface.co/docs/transformers/tasks/summarization\n",
        "\n",
        "prefix = \"summarize: \"\n",
        "\n",
        "def preprocess_function(examples):\n",
        "    inputs = [prefix + doc for doc in examples[\"text\"]]\n",
        "    model_inputs = tokenizer(inputs, max_length=1024, truncation=True)\n",
        "\n",
        "    labels = tokenizer(text_target=examples[\"summarizer\"], max_length=128, truncation=True)\n",
        "\n",
        "    model_inputs[\"labels\"] = labels[\"input_ids\"]\n",
        "    return model_inputs\n",
        "\n",
        "tokenized_train = train_dataset.map(preprocess_function, batched=True)\n",
        "tokenized_test = test_dataset.map(preprocess_function,batched=True)"
      ]
    },
    {
      "cell_type": "markdown",
      "id": "e898b873",
      "metadata": {
        "id": "e898b873"
      },
      "source": [
        "## Step 4: Define the Data Collator"
      ]
    },
    {
      "cell_type": "markdown",
      "id": "42cc74fc",
      "metadata": {
        "id": "42cc74fc"
      },
      "source": [
        "Use a data collator designed for sequence-to-sequence models, which dynamically pads inputs and labels."
      ]
    },
    {
      "cell_type": "code",
      "execution_count": 7,
      "id": "7cbfa50b",
      "metadata": {
        "id": "7cbfa50b"
      },
      "outputs": [],
      "source": [
        "# source : https://huggingface.co/docs/transformers/main_classes/data_collator#transformers.DataCollatorForSeq2Seq\n",
        "from transformers import DataCollatorForSeq2Seq\n",
        "data_collator = DataCollatorForSeq2Seq(tokenizer, model=None,padding=True)"
      ]
    },
    {
      "cell_type": "markdown",
      "id": "991d5ded",
      "metadata": {
        "id": "991d5ded"
      },
      "source": [
        "## Step 5: Load the Pretrained Model"
      ]
    },
    {
      "cell_type": "markdown",
      "id": "a4b67c4a",
      "metadata": {
        "id": "a4b67c4a"
      },
      "source": [
        "Load the model for sequence-to-sequence tasks (summarization)."
      ]
    },
    {
      "cell_type": "code",
      "execution_count": 8,
      "id": "b0af20bf",
      "metadata": {
        "id": "b0af20bf"
      },
      "outputs": [],
      "source": [
        "model = AutoModelForSeq2SeqLM.from_pretrained(\"yalsaffar/mt5-small-Arabic-Summarization\")"
      ]
    },
    {
      "cell_type": "markdown",
      "id": "f6276996",
      "metadata": {
        "id": "f6276996"
      },
      "source": [
        "## Step 6: Define Training Arguments"
      ]
    },
    {
      "cell_type": "markdown",
      "id": "0fef9692",
      "metadata": {
        "id": "0fef9692"
      },
      "source": [
        "Set up the training configuration with parameters like learning rate, batch size, and number of epochs."
      ]
    },
    {
      "cell_type": "markdown",
      "id": "0d109886",
      "metadata": {
        "id": "0d109886"
      },
      "source": [
        "## Step 7: Initialize the Trainer"
      ]
    },
    {
      "cell_type": "markdown",
      "id": "b26da5a2",
      "metadata": {
        "id": "b26da5a2"
      },
      "source": [
        "Use the `Seq2SeqTrainer` class to train the model."
      ]
    },
    {
      "cell_type": "code",
      "execution_count": 9,
      "id": "7183e3da",
      "metadata": {
        "id": "7183e3da"
      },
      "outputs": [],
      "source": [
        "#from transformers import TrainingArguments, Trainer\n",
        "\n",
        "#trainer1 = Trainer(\n",
        " #   model=model,\n",
        " #   train_dataset=tokenized_train,\n",
        " #   eval_dataset=tokenized_test,\n",
        " #   tokenizer=tokenizer,\n",
        " #   data_collator=data_collator,)\n",
        "#trainer1.train()"
      ]
    },
    {
      "cell_type": "markdown",
      "id": "dea0d5d0",
      "metadata": {
        "id": "dea0d5d0"
      },
      "source": [
        "## Step 8: Fine-tune the Model"
      ]
    },
    {
      "cell_type": "code",
      "execution_count": 10,
      "id": "2a9710ac",
      "metadata": {
        "id": "2a9710ac"
      },
      "outputs": [],
      "source": [
        "from transformers import TrainingArguments, Trainer\n",
        "training_args = TrainingArguments(\n",
        "    output_dir=\"./results\",\n",
        "    num_train_epochs=1,\n",
        "    learning_rate=2e-5,\n",
        "    per_device_train_batch_size=8,\n",
        "    per_device_eval_batch_size=8,\n",
        "    weight_decay=0.01,\n",
        "    logging_dir=\"./logs\",)"
      ]
    },
    {
      "cell_type": "code",
      "execution_count": 11,
      "id": "287b64d0",
      "metadata": {
        "id": "287b64d0",
        "colab": {
          "base_uri": "https://localhost:8080/",
          "height": 234
        },
        "outputId": "805b50e2-7098-447c-be38-d087fc5f8838"
      },
      "outputs": [
        {
          "output_type": "display_data",
          "data": {
            "text/plain": [
              "<IPython.core.display.HTML object>"
            ],
            "text/html": [
              "\n",
              "    <div>\n",
              "      \n",
              "      <progress value='838' max='838' style='width:300px; height:20px; vertical-align: middle;'></progress>\n",
              "      [838/838 10:14, Epoch 1/1]\n",
              "    </div>\n",
              "    <table border=\"1\" class=\"dataframe\">\n",
              "  <thead>\n",
              " <tr style=\"text-align: left;\">\n",
              "      <th>Step</th>\n",
              "      <th>Training Loss</th>\n",
              "    </tr>\n",
              "  </thead>\n",
              "  <tbody>\n",
              "    <tr>\n",
              "      <td>500</td>\n",
              "      <td>2.038900</td>\n",
              "    </tr>\n",
              "  </tbody>\n",
              "</table><p>"
            ]
          },
          "metadata": {}
        },
        {
          "output_type": "stream",
          "name": "stderr",
          "text": [
            "Some non-default generation parameters are set in the model config. These should go into a GenerationConfig file (https://huggingface.co/docs/transformers/generation_strategies#save-a-custom-decoding-strategy-with-your-model) instead. This warning will be raised to an exception in v4.41.\n",
            "Non-default generation parameters: {'max_length': 128, 'num_beams': 15, 'length_penalty': 0.6, 'no_repeat_ngram_size': 2}\n",
            "Some non-default generation parameters are set in the model config. These should go into a GenerationConfig file (https://huggingface.co/docs/transformers/generation_strategies#save-a-custom-decoding-strategy-with-your-model) instead. This warning will be raised to an exception in v4.41.\n",
            "Non-default generation parameters: {'max_length': 128, 'num_beams': 15, 'length_penalty': 0.6, 'no_repeat_ngram_size': 2}\n"
          ]
        },
        {
          "output_type": "execute_result",
          "data": {
            "text/plain": [
              "TrainOutput(global_step=838, training_loss=1.9688222516408114, metrics={'train_runtime': 617.7739, 'train_samples_per_second': 10.849, 'train_steps_per_second': 1.356, 'total_flos': 2918946145075200.0, 'train_loss': 1.9688222516408114, 'epoch': 1.0})"
            ]
          },
          "metadata": {},
          "execution_count": 11
        }
      ],
      "source": [
        "trainer = Trainer(\n",
        "    model=model,\n",
        "    args=training_args,\n",
        "    train_dataset=tokenized_train,\n",
        "    eval_dataset=tokenized_test,\n",
        "    tokenizer=tokenizer,\n",
        "    data_collator=data_collator,)\n",
        "trainer.train()"
      ]
    },
    {
      "cell_type": "markdown",
      "id": "c1b78223",
      "metadata": {
        "id": "c1b78223"
      },
      "source": [
        "Train the model using the specified arguments and dataset."
      ]
    },
    {
      "cell_type": "markdown",
      "id": "dfc4ae5b",
      "metadata": {
        "id": "dfc4ae5b"
      },
      "source": [
        "## Step 9: Inference"
      ]
    },
    {
      "cell_type": "markdown",
      "id": "24f30dd0",
      "metadata": {
        "id": "24f30dd0"
      },
      "source": [
        "Once the model is trained, perform inference on a sample text to generate a summary. Use the tokenizer to process the text, and then feed it into the model to get the generated summary."
      ]
    },
    {
      "cell_type": "code",
      "source": [
        "trainer.save_model('./fine-tune')"
      ],
      "metadata": {
        "colab": {
          "base_uri": "https://localhost:8080/"
        },
        "id": "hf1xMcgkI45x",
        "outputId": "38f3691b-edbb-4d21-da38-755e14953cb3"
      },
      "id": "hf1xMcgkI45x",
      "execution_count": 20,
      "outputs": [
        {
          "output_type": "stream",
          "name": "stderr",
          "text": [
            "Some non-default generation parameters are set in the model config. These should go into a GenerationConfig file (https://huggingface.co/docs/transformers/generation_strategies#save-a-custom-decoding-strategy-with-your-model) instead. This warning will be raised to an exception in v4.41.\n",
            "Non-default generation parameters: {'max_length': 128, 'num_beams': 15, 'length_penalty': 0.6, 'no_repeat_ngram_size': 2}\n"
          ]
        }
      ]
    },
    {
      "cell_type": "code",
      "source": [
        "tokenizer.save_pretrained('./Tokenize')"
      ],
      "metadata": {
        "colab": {
          "base_uri": "https://localhost:8080/"
        },
        "id": "ZWn6tl7fKvbk",
        "outputId": "a9ad4c64-95ca-4e96-ffc9-3b58e2c72a0e"
      },
      "id": "ZWn6tl7fKvbk",
      "execution_count": 21,
      "outputs": [
        {
          "output_type": "execute_result",
          "data": {
            "text/plain": [
              "('./Tokenize/tokenizer_config.json',\n",
              " './Tokenize/special_tokens_map.json',\n",
              " './Tokenize/spiece.model',\n",
              " './Tokenize/added_tokens.json',\n",
              " './Tokenize/tokenizer.json')"
            ]
          },
          "metadata": {},
          "execution_count": 21
        }
      ]
    },
    {
      "cell_type": "code",
      "source": [
        "train_dataset['text'][296]"
      ],
      "metadata": {
        "colab": {
          "base_uri": "https://localhost:8080/",
          "height": 53
        },
        "id": "y4o308rqG-4u",
        "outputId": "b49559f4-bfbf-44d2-d414-fdc2c1b67445"
      },
      "id": "y4o308rqG-4u",
      "execution_count": 14,
      "outputs": [
        {
          "output_type": "execute_result",
          "data": {
            "text/plain": [
              "'تمكنت الوحدات الامنيه التابعه لمنطقه الامن الوطني بجندوبه بالتعاون فرقه الشرطه العدليه بجندوبه وبعد افاده ايقاف عنصرين يبلغان العمر سنه بتهمه الانتماء جماعه ارهابيه وحسبما مصدر امني لمراسل الجوهره بالجهه المشتبه طالب الثاني جامعه وعاطل العمل مداهمه منزلهما فجر اليوم السبت استشاره النيابه العموميه وتم العثور لديهما كتب الارهاب تم تحويلهما تونس العاصمه لعرضهما انظار القطب القضائي المصدر'"
            ],
            "application/vnd.google.colaboratory.intrinsic+json": {
              "type": "string"
            }
          },
          "metadata": {},
          "execution_count": 14
        }
      ]
    },
    {
      "cell_type": "code",
      "execution_count": 22,
      "id": "9a3f2fcb",
      "metadata": {
        "id": "9a3f2fcb",
        "colab": {
          "base_uri": "https://localhost:8080/"
        },
        "outputId": "82f7370e-06a9-4667-de47-223f8ee70192"
      },
      "outputs": [
        {
          "output_type": "stream",
          "name": "stdout",
          "text": [
            "تمكنت الوحدات الأمنية التابعة للمنطقة الامن الوطني بجندوبة وبعد افاده ايقاف عنصرين يبلغان العمر 16 عاما.\n"
          ]
        }
      ],
      "source": [
        "text = \"تمكنت الوحدات الامنيه التابعه لمنطقه الامن الوطني بجندوبه بالتعاون فرقه الشرطه العدليه بجندوبه وبعد افاده ايقاف عنصرين يبلغان العمر سنه بتهمه الانتماء جماعه ارهابيه وحسبما مصدر امني لمراسل الجوهره بالجهه المشتبه طالب الثاني جامعه وعاطل العمل مداهمه منزلهما فجر اليوم السبت استشاره النيابه العموميه وتم العثور لديهما كتب الارهاب تم تحويلهما تونس العاصمه لعرضهما انظار القطب القضائي المصدر\"\n",
        "\n",
        "tokenized_text = tokenizer(text, return_tensors=\"pt\").to('cuda')\n",
        "summary = model.generate(**tokenized_text)\n",
        "\n",
        "print(tokenizer.decode(summary[0], skip_special_tokens=True))"
      ]
    }
  ],
  "metadata": {
    "language_info": {
      "name": "python"
    },
    "colab": {
      "provenance": [],
      "gpuType": "T4"
    },
    "accelerator": "GPU",
    "kernelspec": {
      "name": "python3",
      "display_name": "Python 3"
    },
    "widgets": {
      "application/vnd.jupyter.widget-state+json": {
        "0d8867de380c4129ac232409c714291a": {
          "model_module": "@jupyter-widgets/controls",
          "model_name": "HBoxModel",
          "model_module_version": "1.5.0",
          "state": {
            "_dom_classes": [],
            "_model_module": "@jupyter-widgets/controls",
            "_model_module_version": "1.5.0",
            "_model_name": "HBoxModel",
            "_view_count": null,
            "_view_module": "@jupyter-widgets/controls",
            "_view_module_version": "1.5.0",
            "_view_name": "HBoxView",
            "box_style": "",
            "children": [
              "IPY_MODEL_2113eeaa871049de91b20f0cb6c0f726",
              "IPY_MODEL_34a8922fa7c34b4bbf2723b0b6afd332",
              "IPY_MODEL_9242ecf7eb054b7d9643480684d89564"
            ],
            "layout": "IPY_MODEL_a7d9cec8cbb348199ceef3c8f1cee822"
          }
        },
        "2113eeaa871049de91b20f0cb6c0f726": {
          "model_module": "@jupyter-widgets/controls",
          "model_name": "HTMLModel",
          "model_module_version": "1.5.0",
          "state": {
            "_dom_classes": [],
            "_model_module": "@jupyter-widgets/controls",
            "_model_module_version": "1.5.0",
            "_model_name": "HTMLModel",
            "_view_count": null,
            "_view_module": "@jupyter-widgets/controls",
            "_view_module_version": "1.5.0",
            "_view_name": "HTMLView",
            "description": "",
            "description_tooltip": null,
            "layout": "IPY_MODEL_7f5e1ca20816439b9c081ef154a9d3ce",
            "placeholder": "​",
            "style": "IPY_MODEL_64cb8f2b72fa4527b2fdedb70c7bf07a",
            "value": "Map: 100%"
          }
        },
        "34a8922fa7c34b4bbf2723b0b6afd332": {
          "model_module": "@jupyter-widgets/controls",
          "model_name": "FloatProgressModel",
          "model_module_version": "1.5.0",
          "state": {
            "_dom_classes": [],
            "_model_module": "@jupyter-widgets/controls",
            "_model_module_version": "1.5.0",
            "_model_name": "FloatProgressModel",
            "_view_count": null,
            "_view_module": "@jupyter-widgets/controls",
            "_view_module_version": "1.5.0",
            "_view_name": "ProgressView",
            "bar_style": "success",
            "description": "",
            "description_tooltip": null,
            "layout": "IPY_MODEL_ea6fb092a1f04cbe88cd67723d6088fd",
            "max": 6702,
            "min": 0,
            "orientation": "horizontal",
            "style": "IPY_MODEL_33e3bd8467d44c8b9a284b4ac119ff76",
            "value": 6702
          }
        },
        "9242ecf7eb054b7d9643480684d89564": {
          "model_module": "@jupyter-widgets/controls",
          "model_name": "HTMLModel",
          "model_module_version": "1.5.0",
          "state": {
            "_dom_classes": [],
            "_model_module": "@jupyter-widgets/controls",
            "_model_module_version": "1.5.0",
            "_model_name": "HTMLModel",
            "_view_count": null,
            "_view_module": "@jupyter-widgets/controls",
            "_view_module_version": "1.5.0",
            "_view_name": "HTMLView",
            "description": "",
            "description_tooltip": null,
            "layout": "IPY_MODEL_4e348517e83d420ca2ec6fc918d65977",
            "placeholder": "​",
            "style": "IPY_MODEL_7d6dfd03230341e98a1b2a2b836eefae",
            "value": " 6702/6702 [00:08&lt;00:00, 797.98 examples/s]"
          }
        },
        "a7d9cec8cbb348199ceef3c8f1cee822": {
          "model_module": "@jupyter-widgets/base",
          "model_name": "LayoutModel",
          "model_module_version": "1.2.0",
          "state": {
            "_model_module": "@jupyter-widgets/base",
            "_model_module_version": "1.2.0",
            "_model_name": "LayoutModel",
            "_view_count": null,
            "_view_module": "@jupyter-widgets/base",
            "_view_module_version": "1.2.0",
            "_view_name": "LayoutView",
            "align_content": null,
            "align_items": null,
            "align_self": null,
            "border": null,
            "bottom": null,
            "display": null,
            "flex": null,
            "flex_flow": null,
            "grid_area": null,
            "grid_auto_columns": null,
            "grid_auto_flow": null,
            "grid_auto_rows": null,
            "grid_column": null,
            "grid_gap": null,
            "grid_row": null,
            "grid_template_areas": null,
            "grid_template_columns": null,
            "grid_template_rows": null,
            "height": null,
            "justify_content": null,
            "justify_items": null,
            "left": null,
            "margin": null,
            "max_height": null,
            "max_width": null,
            "min_height": null,
            "min_width": null,
            "object_fit": null,
            "object_position": null,
            "order": null,
            "overflow": null,
            "overflow_x": null,
            "overflow_y": null,
            "padding": null,
            "right": null,
            "top": null,
            "visibility": null,
            "width": null
          }
        },
        "7f5e1ca20816439b9c081ef154a9d3ce": {
          "model_module": "@jupyter-widgets/base",
          "model_name": "LayoutModel",
          "model_module_version": "1.2.0",
          "state": {
            "_model_module": "@jupyter-widgets/base",
            "_model_module_version": "1.2.0",
            "_model_name": "LayoutModel",
            "_view_count": null,
            "_view_module": "@jupyter-widgets/base",
            "_view_module_version": "1.2.0",
            "_view_name": "LayoutView",
            "align_content": null,
            "align_items": null,
            "align_self": null,
            "border": null,
            "bottom": null,
            "display": null,
            "flex": null,
            "flex_flow": null,
            "grid_area": null,
            "grid_auto_columns": null,
            "grid_auto_flow": null,
            "grid_auto_rows": null,
            "grid_column": null,
            "grid_gap": null,
            "grid_row": null,
            "grid_template_areas": null,
            "grid_template_columns": null,
            "grid_template_rows": null,
            "height": null,
            "justify_content": null,
            "justify_items": null,
            "left": null,
            "margin": null,
            "max_height": null,
            "max_width": null,
            "min_height": null,
            "min_width": null,
            "object_fit": null,
            "object_position": null,
            "order": null,
            "overflow": null,
            "overflow_x": null,
            "overflow_y": null,
            "padding": null,
            "right": null,
            "top": null,
            "visibility": null,
            "width": null
          }
        },
        "64cb8f2b72fa4527b2fdedb70c7bf07a": {
          "model_module": "@jupyter-widgets/controls",
          "model_name": "DescriptionStyleModel",
          "model_module_version": "1.5.0",
          "state": {
            "_model_module": "@jupyter-widgets/controls",
            "_model_module_version": "1.5.0",
            "_model_name": "DescriptionStyleModel",
            "_view_count": null,
            "_view_module": "@jupyter-widgets/base",
            "_view_module_version": "1.2.0",
            "_view_name": "StyleView",
            "description_width": ""
          }
        },
        "ea6fb092a1f04cbe88cd67723d6088fd": {
          "model_module": "@jupyter-widgets/base",
          "model_name": "LayoutModel",
          "model_module_version": "1.2.0",
          "state": {
            "_model_module": "@jupyter-widgets/base",
            "_model_module_version": "1.2.0",
            "_model_name": "LayoutModel",
            "_view_count": null,
            "_view_module": "@jupyter-widgets/base",
            "_view_module_version": "1.2.0",
            "_view_name": "LayoutView",
            "align_content": null,
            "align_items": null,
            "align_self": null,
            "border": null,
            "bottom": null,
            "display": null,
            "flex": null,
            "flex_flow": null,
            "grid_area": null,
            "grid_auto_columns": null,
            "grid_auto_flow": null,
            "grid_auto_rows": null,
            "grid_column": null,
            "grid_gap": null,
            "grid_row": null,
            "grid_template_areas": null,
            "grid_template_columns": null,
            "grid_template_rows": null,
            "height": null,
            "justify_content": null,
            "justify_items": null,
            "left": null,
            "margin": null,
            "max_height": null,
            "max_width": null,
            "min_height": null,
            "min_width": null,
            "object_fit": null,
            "object_position": null,
            "order": null,
            "overflow": null,
            "overflow_x": null,
            "overflow_y": null,
            "padding": null,
            "right": null,
            "top": null,
            "visibility": null,
            "width": null
          }
        },
        "33e3bd8467d44c8b9a284b4ac119ff76": {
          "model_module": "@jupyter-widgets/controls",
          "model_name": "ProgressStyleModel",
          "model_module_version": "1.5.0",
          "state": {
            "_model_module": "@jupyter-widgets/controls",
            "_model_module_version": "1.5.0",
            "_model_name": "ProgressStyleModel",
            "_view_count": null,
            "_view_module": "@jupyter-widgets/base",
            "_view_module_version": "1.2.0",
            "_view_name": "StyleView",
            "bar_color": null,
            "description_width": ""
          }
        },
        "4e348517e83d420ca2ec6fc918d65977": {
          "model_module": "@jupyter-widgets/base",
          "model_name": "LayoutModel",
          "model_module_version": "1.2.0",
          "state": {
            "_model_module": "@jupyter-widgets/base",
            "_model_module_version": "1.2.0",
            "_model_name": "LayoutModel",
            "_view_count": null,
            "_view_module": "@jupyter-widgets/base",
            "_view_module_version": "1.2.0",
            "_view_name": "LayoutView",
            "align_content": null,
            "align_items": null,
            "align_self": null,
            "border": null,
            "bottom": null,
            "display": null,
            "flex": null,
            "flex_flow": null,
            "grid_area": null,
            "grid_auto_columns": null,
            "grid_auto_flow": null,
            "grid_auto_rows": null,
            "grid_column": null,
            "grid_gap": null,
            "grid_row": null,
            "grid_template_areas": null,
            "grid_template_columns": null,
            "grid_template_rows": null,
            "height": null,
            "justify_content": null,
            "justify_items": null,
            "left": null,
            "margin": null,
            "max_height": null,
            "max_width": null,
            "min_height": null,
            "min_width": null,
            "object_fit": null,
            "object_position": null,
            "order": null,
            "overflow": null,
            "overflow_x": null,
            "overflow_y": null,
            "padding": null,
            "right": null,
            "top": null,
            "visibility": null,
            "width": null
          }
        },
        "7d6dfd03230341e98a1b2a2b836eefae": {
          "model_module": "@jupyter-widgets/controls",
          "model_name": "DescriptionStyleModel",
          "model_module_version": "1.5.0",
          "state": {
            "_model_module": "@jupyter-widgets/controls",
            "_model_module_version": "1.5.0",
            "_model_name": "DescriptionStyleModel",
            "_view_count": null,
            "_view_module": "@jupyter-widgets/base",
            "_view_module_version": "1.2.0",
            "_view_name": "StyleView",
            "description_width": ""
          }
        },
        "7d30a76a66544c7eaeb0a19b914fa441": {
          "model_module": "@jupyter-widgets/controls",
          "model_name": "HBoxModel",
          "model_module_version": "1.5.0",
          "state": {
            "_dom_classes": [],
            "_model_module": "@jupyter-widgets/controls",
            "_model_module_version": "1.5.0",
            "_model_name": "HBoxModel",
            "_view_count": null,
            "_view_module": "@jupyter-widgets/controls",
            "_view_module_version": "1.5.0",
            "_view_name": "HBoxView",
            "box_style": "",
            "children": [
              "IPY_MODEL_68f17e5d7f494b5ba1c787269618998f",
              "IPY_MODEL_fd4b87af39d742d9bbec75336185bb24",
              "IPY_MODEL_eec392fc1d8f4f7da9ef07edb5eb02c3"
            ],
            "layout": "IPY_MODEL_3183455d2a15403ba800ed4a0dcc4b9d"
          }
        },
        "68f17e5d7f494b5ba1c787269618998f": {
          "model_module": "@jupyter-widgets/controls",
          "model_name": "HTMLModel",
          "model_module_version": "1.5.0",
          "state": {
            "_dom_classes": [],
            "_model_module": "@jupyter-widgets/controls",
            "_model_module_version": "1.5.0",
            "_model_name": "HTMLModel",
            "_view_count": null,
            "_view_module": "@jupyter-widgets/controls",
            "_view_module_version": "1.5.0",
            "_view_name": "HTMLView",
            "description": "",
            "description_tooltip": null,
            "layout": "IPY_MODEL_8f70310ae1ce4286bcf001ca13e93664",
            "placeholder": "​",
            "style": "IPY_MODEL_275221d1665543428c7ad3016d247cfa",
            "value": "Map: 100%"
          }
        },
        "fd4b87af39d742d9bbec75336185bb24": {
          "model_module": "@jupyter-widgets/controls",
          "model_name": "FloatProgressModel",
          "model_module_version": "1.5.0",
          "state": {
            "_dom_classes": [],
            "_model_module": "@jupyter-widgets/controls",
            "_model_module_version": "1.5.0",
            "_model_name": "FloatProgressModel",
            "_view_count": null,
            "_view_module": "@jupyter-widgets/controls",
            "_view_module_version": "1.5.0",
            "_view_name": "ProgressView",
            "bar_style": "success",
            "description": "",
            "description_tooltip": null,
            "layout": "IPY_MODEL_c8521582d2d24c5987586ba5534d9cee",
            "max": 1676,
            "min": 0,
            "orientation": "horizontal",
            "style": "IPY_MODEL_29daa030f1784f8cbf11bee3197d97f2",
            "value": 1676
          }
        },
        "eec392fc1d8f4f7da9ef07edb5eb02c3": {
          "model_module": "@jupyter-widgets/controls",
          "model_name": "HTMLModel",
          "model_module_version": "1.5.0",
          "state": {
            "_dom_classes": [],
            "_model_module": "@jupyter-widgets/controls",
            "_model_module_version": "1.5.0",
            "_model_name": "HTMLModel",
            "_view_count": null,
            "_view_module": "@jupyter-widgets/controls",
            "_view_module_version": "1.5.0",
            "_view_name": "HTMLView",
            "description": "",
            "description_tooltip": null,
            "layout": "IPY_MODEL_594051119b874f17a916c5aa7e5b0993",
            "placeholder": "​",
            "style": "IPY_MODEL_bfcfc74df71041109cb920c1ad7aa121",
            "value": " 1676/1676 [00:02&lt;00:00, 709.39 examples/s]"
          }
        },
        "3183455d2a15403ba800ed4a0dcc4b9d": {
          "model_module": "@jupyter-widgets/base",
          "model_name": "LayoutModel",
          "model_module_version": "1.2.0",
          "state": {
            "_model_module": "@jupyter-widgets/base",
            "_model_module_version": "1.2.0",
            "_model_name": "LayoutModel",
            "_view_count": null,
            "_view_module": "@jupyter-widgets/base",
            "_view_module_version": "1.2.0",
            "_view_name": "LayoutView",
            "align_content": null,
            "align_items": null,
            "align_self": null,
            "border": null,
            "bottom": null,
            "display": null,
            "flex": null,
            "flex_flow": null,
            "grid_area": null,
            "grid_auto_columns": null,
            "grid_auto_flow": null,
            "grid_auto_rows": null,
            "grid_column": null,
            "grid_gap": null,
            "grid_row": null,
            "grid_template_areas": null,
            "grid_template_columns": null,
            "grid_template_rows": null,
            "height": null,
            "justify_content": null,
            "justify_items": null,
            "left": null,
            "margin": null,
            "max_height": null,
            "max_width": null,
            "min_height": null,
            "min_width": null,
            "object_fit": null,
            "object_position": null,
            "order": null,
            "overflow": null,
            "overflow_x": null,
            "overflow_y": null,
            "padding": null,
            "right": null,
            "top": null,
            "visibility": null,
            "width": null
          }
        },
        "8f70310ae1ce4286bcf001ca13e93664": {
          "model_module": "@jupyter-widgets/base",
          "model_name": "LayoutModel",
          "model_module_version": "1.2.0",
          "state": {
            "_model_module": "@jupyter-widgets/base",
            "_model_module_version": "1.2.0",
            "_model_name": "LayoutModel",
            "_view_count": null,
            "_view_module": "@jupyter-widgets/base",
            "_view_module_version": "1.2.0",
            "_view_name": "LayoutView",
            "align_content": null,
            "align_items": null,
            "align_self": null,
            "border": null,
            "bottom": null,
            "display": null,
            "flex": null,
            "flex_flow": null,
            "grid_area": null,
            "grid_auto_columns": null,
            "grid_auto_flow": null,
            "grid_auto_rows": null,
            "grid_column": null,
            "grid_gap": null,
            "grid_row": null,
            "grid_template_areas": null,
            "grid_template_columns": null,
            "grid_template_rows": null,
            "height": null,
            "justify_content": null,
            "justify_items": null,
            "left": null,
            "margin": null,
            "max_height": null,
            "max_width": null,
            "min_height": null,
            "min_width": null,
            "object_fit": null,
            "object_position": null,
            "order": null,
            "overflow": null,
            "overflow_x": null,
            "overflow_y": null,
            "padding": null,
            "right": null,
            "top": null,
            "visibility": null,
            "width": null
          }
        },
        "275221d1665543428c7ad3016d247cfa": {
          "model_module": "@jupyter-widgets/controls",
          "model_name": "DescriptionStyleModel",
          "model_module_version": "1.5.0",
          "state": {
            "_model_module": "@jupyter-widgets/controls",
            "_model_module_version": "1.5.0",
            "_model_name": "DescriptionStyleModel",
            "_view_count": null,
            "_view_module": "@jupyter-widgets/base",
            "_view_module_version": "1.2.0",
            "_view_name": "StyleView",
            "description_width": ""
          }
        },
        "c8521582d2d24c5987586ba5534d9cee": {
          "model_module": "@jupyter-widgets/base",
          "model_name": "LayoutModel",
          "model_module_version": "1.2.0",
          "state": {
            "_model_module": "@jupyter-widgets/base",
            "_model_module_version": "1.2.0",
            "_model_name": "LayoutModel",
            "_view_count": null,
            "_view_module": "@jupyter-widgets/base",
            "_view_module_version": "1.2.0",
            "_view_name": "LayoutView",
            "align_content": null,
            "align_items": null,
            "align_self": null,
            "border": null,
            "bottom": null,
            "display": null,
            "flex": null,
            "flex_flow": null,
            "grid_area": null,
            "grid_auto_columns": null,
            "grid_auto_flow": null,
            "grid_auto_rows": null,
            "grid_column": null,
            "grid_gap": null,
            "grid_row": null,
            "grid_template_areas": null,
            "grid_template_columns": null,
            "grid_template_rows": null,
            "height": null,
            "justify_content": null,
            "justify_items": null,
            "left": null,
            "margin": null,
            "max_height": null,
            "max_width": null,
            "min_height": null,
            "min_width": null,
            "object_fit": null,
            "object_position": null,
            "order": null,
            "overflow": null,
            "overflow_x": null,
            "overflow_y": null,
            "padding": null,
            "right": null,
            "top": null,
            "visibility": null,
            "width": null
          }
        },
        "29daa030f1784f8cbf11bee3197d97f2": {
          "model_module": "@jupyter-widgets/controls",
          "model_name": "ProgressStyleModel",
          "model_module_version": "1.5.0",
          "state": {
            "_model_module": "@jupyter-widgets/controls",
            "_model_module_version": "1.5.0",
            "_model_name": "ProgressStyleModel",
            "_view_count": null,
            "_view_module": "@jupyter-widgets/base",
            "_view_module_version": "1.2.0",
            "_view_name": "StyleView",
            "bar_color": null,
            "description_width": ""
          }
        },
        "594051119b874f17a916c5aa7e5b0993": {
          "model_module": "@jupyter-widgets/base",
          "model_name": "LayoutModel",
          "model_module_version": "1.2.0",
          "state": {
            "_model_module": "@jupyter-widgets/base",
            "_model_module_version": "1.2.0",
            "_model_name": "LayoutModel",
            "_view_count": null,
            "_view_module": "@jupyter-widgets/base",
            "_view_module_version": "1.2.0",
            "_view_name": "LayoutView",
            "align_content": null,
            "align_items": null,
            "align_self": null,
            "border": null,
            "bottom": null,
            "display": null,
            "flex": null,
            "flex_flow": null,
            "grid_area": null,
            "grid_auto_columns": null,
            "grid_auto_flow": null,
            "grid_auto_rows": null,
            "grid_column": null,
            "grid_gap": null,
            "grid_row": null,
            "grid_template_areas": null,
            "grid_template_columns": null,
            "grid_template_rows": null,
            "height": null,
            "justify_content": null,
            "justify_items": null,
            "left": null,
            "margin": null,
            "max_height": null,
            "max_width": null,
            "min_height": null,
            "min_width": null,
            "object_fit": null,
            "object_position": null,
            "order": null,
            "overflow": null,
            "overflow_x": null,
            "overflow_y": null,
            "padding": null,
            "right": null,
            "top": null,
            "visibility": null,
            "width": null
          }
        },
        "bfcfc74df71041109cb920c1ad7aa121": {
          "model_module": "@jupyter-widgets/controls",
          "model_name": "DescriptionStyleModel",
          "model_module_version": "1.5.0",
          "state": {
            "_model_module": "@jupyter-widgets/controls",
            "_model_module_version": "1.5.0",
            "_model_name": "DescriptionStyleModel",
            "_view_count": null,
            "_view_module": "@jupyter-widgets/base",
            "_view_module_version": "1.2.0",
            "_view_name": "StyleView",
            "description_width": ""
          }
        }
      }
    }
  },
  "nbformat": 4,
  "nbformat_minor": 5
}